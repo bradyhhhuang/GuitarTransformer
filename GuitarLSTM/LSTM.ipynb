{
  "cells": [
    {
      "cell_type": "code",
      "execution_count": null,
      "metadata": {
        "id": "e3qYsaHsbs-J"
      },
      "outputs": [],
      "source": [
        "# model definition, seq2seq stateful lstm for real-time audio processing\n",
        "\n",
        "import torch\n",
        "import torch.nn as nn\n",
        "\n",
        "class AudioLSTM(nn.Module):\n",
        "  def __init__(self, input_size, output_size, hidden_size, num_layers):\n",
        "    super(AudioLSTM, self).__init__()\n",
        "    self.lstm = nn.LSTM(input_size, hidden_size, num_layers, batch_first=True)\n",
        "    self.fc = nn.Linear(hidden_size, output_size)\n",
        "\n",
        "    # needed for stateful LSTM\n",
        "    self.hidden = None\n",
        "\n",
        "  def forward(self, x):\n",
        "    if self.hidden is None:\n",
        "      self.hidden = (\n",
        "        torch.zeros(num_layers, x.size(0), hidden_size).to(x.device),\n",
        "        torch.zeros(num_layers, x.size(0), hidden_size).to(x.device)\n",
        "      )\n",
        "\n",
        "    out, self.hidden = self.lstm(x, self.hidden)\n",
        "\n",
        "    out = self.fc(out)\n",
        "    return out\n",
        "  \n",
        "  def reset_hidden(self):\n",
        "    self.hidden = None"
      ]
    },
    {
      "cell_type": "code",
      "execution_count": null,
      "metadata": {},
      "outputs": [],
      "source": [
        "# custom dataloader, feed 1 sample at a time\n",
        "\n",
        "import torchaudio\n"
      ]
    }
  ],
  "metadata": {
    "colab": {
      "provenance": []
    },
    "kernelspec": {
      "display_name": "Python 3",
      "name": "python3"
    },
    "language_info": {
      "name": "python"
    }
  },
  "nbformat": 4,
  "nbformat_minor": 0
}
